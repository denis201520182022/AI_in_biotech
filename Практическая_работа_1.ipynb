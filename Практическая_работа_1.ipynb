{
 "cells": [
  {
   "cell_type": "markdown",
   "metadata": {
    "colab_type": "text",
    "id": "view-in-github"
   },
   "source": [
    "<a href=\"https://colab.research.google.com/github/enikolaev/AI_in_biotech/blob/main/%D0%9F%D1%80%D0%B0%D0%BA%D1%82%D0%B8%D1%87%D0%B5%D1%81%D0%BA%D0%B0%D1%8F_%D1%80%D0%B0%D0%B1%D0%BE%D1%82%D0%B0_1.ipynb\" target=\"_parent\"><img src=\"https://colab.research.google.com/assets/colab-badge.svg\" alt=\"Open In Colab\"/></a>"
   ]
  },
  {
   "cell_type": "markdown",
   "metadata": {
    "id": "C3DZeo7xi2HL"
   },
   "source": [
    "# Практическая работа 1. Простейший скрипт Python"
   ]
  },
  {
   "cell_type": "markdown",
   "metadata": {
    "id": "8wIyzax9q7JF"
   },
   "source": [
    "## Задание"
   ]
  },
  {
   "cell_type": "markdown",
   "metadata": {
    "id": "A1UMdzQGjFix"
   },
   "source": [
    "Необходимо вычислить значение выражения:\n",
    "$$Z=\\frac{x^y-\\sqrt[3]{x}}{a\\cdot({k\\_to + 120\\cdot|x-y|})}$$\n",
    "Для каждой переменной необходимо вывести ее значение и тип."
   ]
  },
  {
   "cell_type": "markdown",
   "metadata": {
    "id": "RGlwZaXQrAfd"
   },
   "source": [
    "## Анализ выражения и определение переменных"
   ]
  },
  {
   "cell_type": "markdown",
   "metadata": {
    "id": "dusmGf0PoHeU"
   },
   "source": [
    "Проанализируем выражение и определим переменные, которые потребуются для выполнения задания. Независимые переменные: $x, y, a, k\\_to$. Переменная, которая должна быть вычислена на основе независимых: $Z$."
   ]
  },
  {
   "cell_type": "code",
   "execution_count": null,
   "metadata": {
    "colab": {
     "base_uri": "https://localhost:8080/"
    },
    "id": "GRcewQyGh7dD",
    "outputId": "6df1105a-8157-4a3b-e4c7-b46cd495f94d"
   },
   "outputs": [
    {
     "name": "stdout",
     "output_type": "stream",
     "text": [
      "x =  10 , type(x) =  <class 'int'>\n",
      "y =  30.67 , type(y) =  <class 'float'>\n",
      "k_to =  5 , type(k_to) =  <class 'int'>\n",
      "a =  5 , type(a) =  <class 'int'>\n"
     ]
    }
   ],
   "source": [
    "x=10\n",
    "y=30.67\n",
    "a=5\n",
    "k_to=5 \n",
    "print(\"ЕЕЕЕЕЕЕЕЕЕЕЕЕЕЕЕ\")\n",
    "print(\"x = \", x, \", type(x) = \", type(x))\n",
    "print(\"y = \", y, \", type(y) = \", type(y))\n",
    "print(\"k_to = \", k_to, \", type(k_to) = \", type(k_to))\n",
    "print(\"a = \", a, \", type(a) = \", type(a))"
   ]
  },
  {
   "cell_type": "markdown",
   "metadata": {
    "id": "JCG1FflCrJRE"
   },
   "source": [
    "## Вычисление выражение, печать результатов"
   ]
  },
  {
   "cell_type": "markdown",
   "metadata": {
    "id": "9ky-Ji8ppVb9"
   },
   "source": [
    "Код для вычисления значения выражения $Z$:"
   ]
  },
  {
   "cell_type": "code",
   "execution_count": null,
   "metadata": {
    "colab": {
     "base_uri": "https://localhost:8080/"
    },
    "id": "v5SpmCokphuJ",
    "outputId": "73c75de3-9eaf-4721-c3ea-d373d675885f"
   },
   "outputs": [
    {
     "name": "stdout",
     "output_type": "stream",
     "text": [
      "Z= 3.76386208487326e+26\n",
      "Type of Z:  <class 'float'>\n"
     ]
    }
   ],
   "source": [
    "Z=(x**y-x**(1/3))/(a*(k_to+120*abs(x-y)))\n",
    "print('Z=',Z)\n",
    "print('Type of Z: ', type(Z))"
   ]
  },
  {
   "cell_type": "markdown",
   "metadata": {
    "id": "QgydWXtBqRUl"
   },
   "source": [
    "Основные функции, используемые в данной практической работе: `print(), type(), abs()`"
   ]
  }
 ],
 "metadata": {
  "colab": {
   "authorship_tag": "ABX9TyMpm8jqq5R9Fbe38x2FWjJE",
   "include_colab_link": true,
   "provenance": [],
   "toc_visible": true
  },
  "kernelspec": {
   "display_name": "Python 3",
   "name": "python3"
  },
  "language_info": {
   "name": "python"
  }
 },
 "nbformat": 4,
 "nbformat_minor": 0
}
