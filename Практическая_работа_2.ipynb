{
  "nbformat": 4,
  "nbformat_minor": 0,
  "metadata": {
    "colab": {
      "provenance": [],
      "toc_visible": true,
      "authorship_tag": "ABX9TyOD1IX2bi0VuQlnYV4g6C73",
      "include_colab_link": true
    },
    "kernelspec": {
      "name": "python3",
      "display_name": "Python 3"
    },
    "language_info": {
      "name": "python"
    }
  },
  "cells": [
    {
      "cell_type": "markdown",
      "metadata": {
        "id": "view-in-github",
        "colab_type": "text"
      },
      "source": [
        "<a href=\"https://colab.research.google.com/github/enikolaev/AI_in_biotech/blob/main/%D0%9F%D1%80%D0%B0%D0%BA%D1%82%D0%B8%D1%87%D0%B5%D1%81%D0%BA%D0%B0%D1%8F_%D1%80%D0%B0%D0%B1%D0%BE%D1%82%D0%B0_2.ipynb\" target=\"_parent\"><img src=\"https://colab.research.google.com/assets/colab-badge.svg\" alt=\"Open In Colab\"/></a>"
      ]
    },
    {
      "cell_type": "markdown",
      "source": [
        "# Практическая работа 2. Основные конструкции языка"
      ],
      "metadata": {
        "id": "C3DZeo7xi2HL"
      }
    },
    {
      "cell_type": "markdown",
      "source": [
        "## Задание"
      ],
      "metadata": {
        "id": "8wIyzax9q7JF"
      }
    },
    {
      "cell_type": "markdown",
      "source": [
        "Напишите скрипт поиска чисел, кратных 23 в списке, состоящем из элементов произвольного типа"
      ],
      "metadata": {
        "id": "A1UMdzQGjFix"
      }
    },
    {
      "cell_type": "markdown",
      "source": [
        "## Анализ задания, изучение возможностей языка"
      ],
      "metadata": {
        "id": "RGlwZaXQrAfd"
      }
    },
    {
      "cell_type": "markdown",
      "source": [
        "Чаще всего данные получают из файлов (работа с которыми будет рассмотрена позже). В данном рпактическом задании необходимо использовать список, определяемый программно. Список в Python - это коллекция элементов **произвольного** типа, разделенных запятыми. Объявление списка можно выполнить следующим образом:"
      ],
      "metadata": {
        "id": "dusmGf0PoHeU"
      }
    },
    {
      "cell_type": "code",
      "execution_count": null,
      "metadata": {
        "id": "GRcewQyGh7dD",
        "colab": {
          "base_uri": "https://localhost:8080/"
        },
        "outputId": "0d3a501a-497a-4db7-a79a-78d1fc2e89a0"
      },
      "outputs": [
        {
          "output_type": "stream",
          "name": "stdout",
          "text": [
            "[1, 4.1, 5, 6.78, 23.5, 'abc', (3, 4, 'Nikolaev E.I.'), [5, 5, 5, 7.67], (2+3j)]\n"
          ]
        }
      ],
      "source": [
        "p=[1, 4.1, 5, 6.78, 23.5, \"abc\", (3, 4, \"Nikolaev E.I.\"), [5,5,5,7.67], 2+3j]\n",
        "print(p)"
      ]
    },
    {
      "cell_type": "markdown",
      "source": [
        "К элементам списка можно обращаться, указывая его номер. Данная операция называется индексацией и обозначается как `[]`. Номер элемента - его индекс, указывается в квадратных скобках. При этом индексация начинается с нуля."
      ],
      "metadata": {
        "id": "hupq--jq0PA3"
      }
    },
    {
      "cell_type": "code",
      "source": [
        "print('0-й элемент списка: ', p[0], type(p[0]), sep=' | ' )\n",
        "print('1-й элемент списка: ', p[1], type(p[1]), sep=' | ' )\n",
        "k=5\n",
        "print('%d-й элемент списка: ' % k, p[k], type(p[k]), sep=' | ' )\n",
        "k=6\n",
        "print('%d-й элемент списка: ' % k, p[k], type(p[k]), sep=' | ' )\n",
        "k=7\n",
        "print('%d-й элемент списка: ' % k, p[k], type(p[k]), sep=' | ' )\n",
        "k=8\n",
        "print('%d-й элемент списка: ' % k, p[k], type(p[k]), sep=' | ' )"
      ],
      "metadata": {
        "colab": {
          "base_uri": "https://localhost:8080/"
        },
        "id": "GzShFx3l0l49",
        "outputId": "0968dbd5-6966-45bd-9f41-495493394ae1"
      },
      "execution_count": null,
      "outputs": [
        {
          "output_type": "stream",
          "name": "stdout",
          "text": [
            "0-й элемент списка:  | 1 | <class 'int'>\n",
            "1-й элемент списка:  | 4.1 | <class 'float'>\n",
            "5-й элемент списка:  | abc | <class 'str'>\n",
            "6-й элемент списка:  | (3, 4, 'Nikolaev E.I.') | <class 'tuple'>\n",
            "7-й элемент списка:  | [5, 5, 5, 7.67] | <class 'list'>\n",
            "8-й элемент списка:  | (2+3j) | <class 'complex'>\n"
          ]
        }
      ]
    },
    {
      "cell_type": "markdown",
      "source": [
        "Таким образом можно сделать вывод, что в Python использовать следующие типы данных: строковый (`string`), целочисленный (`int`), вещественный (`float`), комплексный (`complex`), кортежи (`tuple`), список (`list`)."
      ],
      "metadata": {
        "id": "7F4tUxgX1dwL"
      }
    },
    {
      "cell_type": "markdown",
      "source": [
        "Кроме нумерации в списках слева-направо, действует также и нумерация справа-налево, при этом крайний правый элемент имеет индекс `-1`:"
      ],
      "metadata": {
        "id": "vq_Sojap2Crl"
      }
    },
    {
      "cell_type": "code",
      "source": [
        "k=-1\n",
        "print('%d-й элемент списка: ' % k, p[k], type(p[k]), sep=' | ' )\n",
        "k=-2\n",
        "print('%d-й элемент списка: ' % k, p[k], type(p[k]), sep=' | ' )\n",
        "k=-3\n",
        "print('%d-й элемент списка: ' % k, p[k], type(p[k]), sep=' | ' )\n",
        "k=-100\n",
        "print('%d-й элемент списка: ' % k, p[k], type(p[k]), sep=' | ' )"
      ],
      "metadata": {
        "colab": {
          "base_uri": "https://localhost:8080/",
          "height": 263
        },
        "id": "FkMWXzXO2Ra2",
        "outputId": "0c61ccd2-5409-4949-d1f4-c9c85ef66f51"
      },
      "execution_count": null,
      "outputs": [
        {
          "output_type": "stream",
          "name": "stdout",
          "text": [
            "-1-й элемент списка:  | (2+3j) | <class 'complex'>\n",
            "-2-й элемент списка:  | [5, 5, 5, 7.67] | <class 'list'>\n",
            "-3-й элемент списка:  | (3, 4, 'Nikolaev E.I.') | <class 'tuple'>\n"
          ]
        },
        {
          "output_type": "error",
          "ename": "IndexError",
          "evalue": "ignored",
          "traceback": [
            "\u001b[0;31m---------------------------------------------------------------------------\u001b[0m",
            "\u001b[0;31mIndexError\u001b[0m                                Traceback (most recent call last)",
            "\u001b[0;32m<ipython-input-8-6fc9483cfb01>\u001b[0m in \u001b[0;36m<module>\u001b[0;34m\u001b[0m\n\u001b[1;32m      6\u001b[0m \u001b[0mprint\u001b[0m\u001b[0;34m(\u001b[0m\u001b[0;34m'%d-й элемент списка: '\u001b[0m \u001b[0;34m%\u001b[0m \u001b[0mk\u001b[0m\u001b[0;34m,\u001b[0m \u001b[0mp\u001b[0m\u001b[0;34m[\u001b[0m\u001b[0mk\u001b[0m\u001b[0;34m]\u001b[0m\u001b[0;34m,\u001b[0m \u001b[0mtype\u001b[0m\u001b[0;34m(\u001b[0m\u001b[0mp\u001b[0m\u001b[0;34m[\u001b[0m\u001b[0mk\u001b[0m\u001b[0;34m]\u001b[0m\u001b[0;34m)\u001b[0m\u001b[0;34m,\u001b[0m \u001b[0msep\u001b[0m\u001b[0;34m=\u001b[0m\u001b[0;34m' | '\u001b[0m \u001b[0;34m)\u001b[0m\u001b[0;34m\u001b[0m\u001b[0;34m\u001b[0m\u001b[0m\n\u001b[1;32m      7\u001b[0m \u001b[0mk\u001b[0m\u001b[0;34m=\u001b[0m\u001b[0;34m-\u001b[0m\u001b[0;36m100\u001b[0m\u001b[0;34m\u001b[0m\u001b[0;34m\u001b[0m\u001b[0m\n\u001b[0;32m----> 8\u001b[0;31m \u001b[0mprint\u001b[0m\u001b[0;34m(\u001b[0m\u001b[0;34m'%d-й элемент списка: '\u001b[0m \u001b[0;34m%\u001b[0m \u001b[0mk\u001b[0m\u001b[0;34m,\u001b[0m \u001b[0mp\u001b[0m\u001b[0;34m[\u001b[0m\u001b[0mk\u001b[0m\u001b[0;34m]\u001b[0m\u001b[0;34m,\u001b[0m \u001b[0mtype\u001b[0m\u001b[0;34m(\u001b[0m\u001b[0mp\u001b[0m\u001b[0;34m[\u001b[0m\u001b[0mk\u001b[0m\u001b[0;34m]\u001b[0m\u001b[0;34m)\u001b[0m\u001b[0;34m,\u001b[0m \u001b[0msep\u001b[0m\u001b[0;34m=\u001b[0m\u001b[0;34m' | '\u001b[0m \u001b[0;34m)\u001b[0m\u001b[0;34m\u001b[0m\u001b[0;34m\u001b[0m\u001b[0m\n\u001b[0m",
            "\u001b[0;31mIndexError\u001b[0m: list index out of range"
          ]
        }
      ]
    },
    {
      "cell_type": "markdown",
      "source": [
        "Следует обратить внимание на ошибку, возникающую в случае использования недопустимого значения индекса."
      ],
      "metadata": {
        "id": "Xs4oLWFl2eGJ"
      }
    },
    {
      "cell_type": "markdown",
      "source": [
        "## Решение задачи"
      ],
      "metadata": {
        "id": "JCG1FflCrJRE"
      }
    },
    {
      "cell_type": "markdown",
      "source": [
        "Определим список и заполним его значениями произвольного типа:"
      ],
      "metadata": {
        "id": "HD07G40-3FNH"
      }
    },
    {
      "cell_type": "code",
      "source": [
        "p=[\"My\", 33, 32, 46, 5.66, 23, [4, 6.8, \"ask\"], (45,67)]"
      ],
      "metadata": {
        "id": "SHaDC2Tl2-YB"
      },
      "execution_count": null,
      "outputs": []
    },
    {
      "cell_type": "markdown",
      "source": [
        "Будем перебирать элементы списка и для каждого узнаем, делится ли он на 23 или нет. В процессе обхода будем выводить информацию о ходе решения и подсчитывать количество требуемых элементов"
      ],
      "metadata": {
        "id": "9ky-Ji8ppVb9"
      }
    },
    {
      "cell_type": "code",
      "source": [
        "# переменная для хранения количества найденных элементов\n",
        "K=0\n",
        "\n",
        "# цикл для последовательного обхода элементов списка\n",
        "for i in range(0, len(p)):\n",
        "  e=p[i]\n",
        "  if type(e)==int:\n",
        "    print('%d-й элемент:' % i, 'тип: %s' % type(e), 'значение: %d' % e)\n",
        "    if e%23==0:\n",
        "      print('>>> делится на 23')\n",
        "      K+=1\n",
        "  else:\n",
        "    print('%d-й элемент:' % i, 'тип: %s' % type(e))\n",
        "\n",
        "print('Найдено элементов, кратных 23: %d' % K)"
      ],
      "metadata": {
        "colab": {
          "base_uri": "https://localhost:8080/"
        },
        "id": "v5SpmCokphuJ",
        "outputId": "9814a929-f85c-4336-ac4f-4fbef41f1832"
      },
      "execution_count": null,
      "outputs": [
        {
          "output_type": "stream",
          "name": "stdout",
          "text": [
            "0-й элемент: тип: <class 'str'>\n",
            "1-й элемент: тип: <class 'int'> значение: 33\n",
            "2-й элемент: тип: <class 'int'> значение: 32\n",
            "3-й элемент: тип: <class 'int'> значение: 46\n",
            ">>> делится на 23\n",
            "4-й элемент: тип: <class 'float'>\n",
            "5-й элемент: тип: <class 'int'> значение: 23\n",
            ">>> делится на 23\n",
            "6-й элемент: тип: <class 'list'>\n",
            "7-й элемент: тип: <class 'tuple'>\n",
            "Найдено элементов, кратных 23: 2\n"
          ]
        }
      ]
    },
    {
      "cell_type": "markdown",
      "source": [
        "В данной работе были использованы операторы `if` (условный оператор), `for ... in range(...)` (оператор цикла с обходом диапазона). Применялись функции `print()`, `type()`"
      ],
      "metadata": {
        "id": "kfm23877A4o2"
      }
    }
  ]
}